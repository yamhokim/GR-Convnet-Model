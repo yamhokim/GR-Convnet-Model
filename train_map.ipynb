{
 "cells": [
  {
   "cell_type": "code",
   "execution_count": 1,
   "metadata": {},
   "outputs": [],
   "source": [
    "import torch\n",
    "from trainers.map_based_trainer import MapBasedTrainer\n",
    "from dataset.map_based.map_based_jacquard import MapBasedJacquardDataset\n",
    "from loss_functions.map_loss import MapLoss\n",
    "from models.grconvnet4 import GRConvNet4"
   ]
  },
  {
   "cell_type": "code",
   "execution_count": 4,
   "metadata": {},
   "outputs": [],
   "source": [
    "dataset = MapBasedJacquardDataset(\n",
    "    image_size = 224, \n",
    "    precision = torch.float32,\n",
    "    cache_path = \"/Users/gursi/Desktop/jacquard/cache\",\n",
    "    random_augment = True\n",
    ")\n",
    "\n",
    "model = GRConvNet4(clip=True)\n",
    "loss_fn = MapLoss()\n",
    "lr = 1e-4\n",
    "optimizer = torch.optim.Adam\n",
    "\n",
    "# Scheduler that halves learning rate every 25 iterations\n",
    "def scheduler(lr, step):\n",
    "    if (step+1) % 25 == 0:\n",
    "        return lr/2\n",
    "    return lr\n",
    "\n",
    "trainer = MapBasedTrainer(\n",
    "    training_mode = \"cls\",\n",
    "    model = model,\n",
    "    device = \"mps\",\n",
    "    loss_fn = loss_fn,\n",
    "    dataset = dataset,\n",
    "    optimizer = optimizer,\n",
    "    lr = lr,\n",
    "    train_batch_size = 8,\n",
    "    test_split_ratio = 0.2,\n",
    "    checkpoint_dir = \"/Users/gursi/Desktop/new_trials\",\n",
    "    log_dir = \"logs\",\n",
    "    scheduler = scheduler,\n",
    "    num_accumulate_batches = 8,\n",
    ")"
   ]
  },
  {
   "cell_type": "code",
   "execution_count": 5,
   "metadata": {},
   "outputs": [
    {
     "name": "stdout",
     "output_type": "stream",
     "text": [
      "--------------------------------------------------\n"
     ]
    },
    {
     "name": "stderr",
     "output_type": "stream",
     "text": [
      "Cls training step 1: 100%|██████████| 111/111 [00:23<00:00,  4.63it/s, loss=-.114] \n",
      "Cls test step 1: 100%|██████████| 14/14 [00:02<00:00,  4.75it/s]\n"
     ]
    },
    {
     "name": "stdout",
     "output_type": "stream",
     "text": [
      "Average Loss: -0.2642645931669644 | Accuracy: 0.3963963963963964\n",
      "--------------------------------------------------\n"
     ]
    },
    {
     "name": "stderr",
     "output_type": "stream",
     "text": [
      "Cls training step 2: 100%|██████████| 111/111 [00:23<00:00,  4.63it/s, loss=-.987] \n",
      "Cls test step 2: 100%|██████████| 14/14 [00:02<00:00,  4.75it/s]\n"
     ]
    },
    {
     "name": "stdout",
     "output_type": "stream",
     "text": [
      "Average Loss: -0.6476673611572811 | Accuracy: 0.1891891891891892\n",
      "--------------------------------------------------\n"
     ]
    },
    {
     "name": "stderr",
     "output_type": "stream",
     "text": [
      "Cls training step 3: 100%|██████████| 111/111 [00:23<00:00,  4.65it/s, loss=-.522]\n",
      "Cls test step 3: 100%|██████████| 14/14 [00:02<00:00,  4.74it/s]\n"
     ]
    },
    {
     "name": "stdout",
     "output_type": "stream",
     "text": [
      "Average Loss: -0.7617331104619163 | Accuracy: 0.1891891891891892\n",
      "--------------------------------------------------\n"
     ]
    },
    {
     "name": "stderr",
     "output_type": "stream",
     "text": [
      "Cls training step 4: 100%|██████████| 111/111 [00:23<00:00,  4.71it/s, loss=-1.87]\n",
      "Cls test step 4: 100%|██████████| 14/14 [00:02<00:00,  4.73it/s]\n"
     ]
    },
    {
     "name": "stdout",
     "output_type": "stream",
     "text": [
      "Average Loss: -0.7893122072730746 | Accuracy: 0.23423423423423423\n",
      "--------------------------------------------------\n"
     ]
    },
    {
     "name": "stderr",
     "output_type": "stream",
     "text": [
      "Cls training step 5: 100%|██████████| 111/111 [00:23<00:00,  4.69it/s, loss=-1.89]\n",
      "Cls test step 5: 100%|██████████| 14/14 [00:03<00:00,  4.66it/s]\n"
     ]
    },
    {
     "name": "stdout",
     "output_type": "stream",
     "text": [
      "Average Loss: -0.7981768122741154 | Accuracy: 0.23873873873873874\n",
      "--------------------------------------------------\n"
     ]
    },
    {
     "name": "stderr",
     "output_type": "stream",
     "text": [
      "Cls training step 6: 100%|██████████| 111/111 [00:23<00:00,  4.69it/s, loss=-.863]\n",
      "Cls test step 6: 100%|██████████| 14/14 [00:03<00:00,  4.52it/s]\n"
     ]
    },
    {
     "name": "stdout",
     "output_type": "stream",
     "text": [
      "Average Loss: -0.8032948332173484 | Accuracy: 0.24774774774774774\n",
      "--------------------------------------------------\n"
     ]
    },
    {
     "name": "stderr",
     "output_type": "stream",
     "text": [
      "Cls training step 7:  65%|██████▍   | 72/111 [00:15<00:08,  4.64it/s, loss=-1.07]\n"
     ]
    },
    {
     "ename": "KeyboardInterrupt",
     "evalue": "",
     "output_type": "error",
     "traceback": [
      "\u001b[0;31m---------------------------------------------------------------------------\u001b[0m",
      "\u001b[0;31mKeyboardInterrupt\u001b[0m                         Traceback (most recent call last)",
      "Cell \u001b[0;32mIn[5], line 1\u001b[0m\n\u001b[0;32m----> 1\u001b[0m \u001b[43mtrainer\u001b[49m\u001b[38;5;241;43m.\u001b[39;49m\u001b[43mrun\u001b[49m\u001b[43m(\u001b[49m\u001b[38;5;241;43m100\u001b[39;49m\u001b[43m)\u001b[49m\n",
      "File \u001b[0;32m~/Desktop/consens-lab/trainers/map_based_trainer.py:79\u001b[0m, in \u001b[0;36mMapBasedTrainer.run\u001b[0;34m(self, num_steps)\u001b[0m\n\u001b[1;32m     77\u001b[0m     \u001b[38;5;28mself\u001b[39m\u001b[38;5;241m.\u001b[39mgrasp_run(num_steps)\n\u001b[1;32m     78\u001b[0m \u001b[38;5;28;01melif\u001b[39;00m \u001b[38;5;28mself\u001b[39m\u001b[38;5;241m.\u001b[39mtraining_mode \u001b[38;5;241m==\u001b[39m \u001b[38;5;124m\"\u001b[39m\u001b[38;5;124mcls\u001b[39m\u001b[38;5;124m\"\u001b[39m:\n\u001b[0;32m---> 79\u001b[0m     \u001b[38;5;28;43mself\u001b[39;49m\u001b[38;5;241;43m.\u001b[39;49m\u001b[43mcls_run\u001b[49m\u001b[43m(\u001b[49m\u001b[43mnum_steps\u001b[49m\u001b[43m)\u001b[49m\n",
      "File \u001b[0;32m~/Desktop/consens-lab/trainers/map_based_trainer.py:229\u001b[0m, in \u001b[0;36mMapBasedTrainer.cls_run\u001b[0;34m(self, num_steps)\u001b[0m\n\u001b[1;32m    227\u001b[0m \u001b[38;5;28;01mwhile\u001b[39;00m \u001b[38;5;28mself\u001b[39m\u001b[38;5;241m.\u001b[39mstep_number \u001b[38;5;241m<\u001b[39m\u001b[38;5;241m=\u001b[39m num_steps:\n\u001b[1;32m    228\u001b[0m     \u001b[38;5;28mprint\u001b[39m(\u001b[38;5;124m\"\u001b[39m\u001b[38;5;124m-\u001b[39m\u001b[38;5;124m\"\u001b[39m \u001b[38;5;241m*\u001b[39m \u001b[38;5;241m50\u001b[39m)\n\u001b[0;32m--> 229\u001b[0m     \u001b[38;5;28;43mself\u001b[39;49m\u001b[38;5;241;43m.\u001b[39;49m\u001b[43mcls_train_step\u001b[49m\u001b[43m(\u001b[49m\u001b[43m)\u001b[49m\n\u001b[1;32m    230\u001b[0m     test_loss, test_acc \u001b[38;5;241m=\u001b[39m \u001b[38;5;28mself\u001b[39m\u001b[38;5;241m.\u001b[39mcls_test_step()\n\u001b[1;32m    232\u001b[0m     \u001b[38;5;28mself\u001b[39m\u001b[38;5;241m.\u001b[39mtb_writer\u001b[38;5;241m.\u001b[39madd_scalar(\u001b[38;5;124m\"\u001b[39m\u001b[38;5;124mCls Test loss\u001b[39m\u001b[38;5;124m\"\u001b[39m, test_loss, \u001b[38;5;28mself\u001b[39m\u001b[38;5;241m.\u001b[39mstep_number)\n",
      "File \u001b[0;32m~/Desktop/consens-lab/trainers/map_based_trainer.py:186\u001b[0m, in \u001b[0;36mMapBasedTrainer.cls_train_step\u001b[0;34m(self)\u001b[0m\n\u001b[1;32m    184\u001b[0m rgbd_image, cls_maps \u001b[38;5;241m=\u001b[39m rgbd_image\u001b[38;5;241m.\u001b[39mto(\u001b[38;5;28mself\u001b[39m\u001b[38;5;241m.\u001b[39mdevice), cls_maps\u001b[38;5;241m.\u001b[39mto(\u001b[38;5;28mself\u001b[39m\u001b[38;5;241m.\u001b[39mdevice)\n\u001b[1;32m    185\u001b[0m predicted_cls_maps \u001b[38;5;241m=\u001b[39m \u001b[38;5;28mself\u001b[39m\u001b[38;5;241m.\u001b[39mmodel(rgbd_image)\n\u001b[0;32m--> 186\u001b[0m loss \u001b[38;5;241m=\u001b[39m \u001b[38;5;28;43mself\u001b[39;49m\u001b[38;5;241;43m.\u001b[39;49m\u001b[43mloss_fn\u001b[49m\u001b[43m(\u001b[49m\u001b[43mpredicted_cls_maps\u001b[49m\u001b[43m,\u001b[49m\u001b[43m \u001b[49m\u001b[43mcls_maps\u001b[49m\u001b[43m)\u001b[49m\n\u001b[1;32m    187\u001b[0m loss\u001b[38;5;241m.\u001b[39mbackward()\n\u001b[1;32m    188\u001b[0m \u001b[38;5;28;01mif\u001b[39;00m i \u001b[38;5;241m%\u001b[39m \u001b[38;5;28mself\u001b[39m\u001b[38;5;241m.\u001b[39mnum_accumulate_batches \u001b[38;5;241m==\u001b[39m \u001b[38;5;241m0\u001b[39m:\n",
      "File \u001b[0;32m~/Desktop/consens-lab/loss_functions/map_loss.py:24\u001b[0m, in \u001b[0;36mMapLoss.__call__\u001b[0;34m(self, predicted_map, target_map)\u001b[0m\n\u001b[1;32m     21\u001b[0m confidence_loss \u001b[38;5;241m=\u001b[39m \u001b[38;5;28mself\u001b[39m\u001b[38;5;241m.\u001b[39mbce(predicted_map[\u001b[38;5;241m0\u001b[39m], target_map[\u001b[38;5;241m0\u001b[39m])\n\u001b[1;32m     23\u001b[0m \u001b[38;5;66;03m# Computing the grasp/cls losses with remaining channels\u001b[39;00m\n\u001b[0;32m---> 24\u001b[0m grasp_cls_loss \u001b[38;5;241m=\u001b[39m \u001b[38;5;28;43mself\u001b[39;49m\u001b[38;5;241;43m.\u001b[39;49m\u001b[43mdouble_log\u001b[49m\u001b[43m(\u001b[49m\u001b[43mpredicted_map\u001b[49m\u001b[43m[\u001b[49m\u001b[38;5;241;43m1\u001b[39;49m\u001b[43m:\u001b[49m\u001b[43m]\u001b[49m\u001b[43m,\u001b[49m\u001b[43m \u001b[49m\u001b[43mtarget_map\u001b[49m\u001b[43m[\u001b[49m\u001b[38;5;241;43m1\u001b[39;49m\u001b[43m:\u001b[49m\u001b[43m]\u001b[49m\u001b[43m)\u001b[49m\n\u001b[1;32m     26\u001b[0m \u001b[38;5;66;03m# Valid pixels for grasp_cls_loss are those where the target confidence map is not 0, \u001b[39;00m\n\u001b[1;32m     27\u001b[0m \u001b[38;5;66;03m# since these are pixels which belong to the object and not the background.\u001b[39;00m\n\u001b[1;32m     28\u001b[0m valid_pixels \u001b[38;5;241m=\u001b[39m target_map[\u001b[38;5;241m0\u001b[39m] \u001b[38;5;241m!=\u001b[39m \u001b[38;5;241m0\u001b[39m\n",
      "File \u001b[0;32m~/Desktop/consens-lab/loss_functions/double_log.py:31\u001b[0m, in \u001b[0;36mDoubleLogLoss.__call__\u001b[0;34m(self, yhat, y)\u001b[0m\n\u001b[1;32m     21\u001b[0m \u001b[38;5;28;01mdef\u001b[39;00m \u001b[38;5;21m__call__\u001b[39m(\u001b[38;5;28mself\u001b[39m, yhat, y):\n\u001b[1;32m     22\u001b[0m \u001b[38;5;250m    \u001b[39m\u001b[38;5;124;03m\"\"\"\u001b[39;00m\n\u001b[1;32m     23\u001b[0m \u001b[38;5;124;03m    yhat should be a tensor of predictions of shape [batch_size, num_classes], with each element being\u001b[39;00m\n\u001b[1;32m     24\u001b[0m \u001b[38;5;124;03m    between -1 and 1 (tanh activation after final layer).\u001b[39;00m\n\u001b[0;32m   (...)\u001b[0m\n\u001b[1;32m     29\u001b[0m \u001b[38;5;124;03m                    is not a particular class and 1 indicating that it is.\u001b[39;00m\n\u001b[1;32m     30\u001b[0m \u001b[38;5;124;03m    \"\"\"\u001b[39;00m\n\u001b[0;32m---> 31\u001b[0m     \u001b[38;5;28;43mself\u001b[39;49m\u001b[38;5;241;43m.\u001b[39;49m\u001b[43mcheck_range\u001b[49m\u001b[43m(\u001b[49m\u001b[43my\u001b[49m\u001b[38;5;241;43m=\u001b[39;49m\u001b[43my\u001b[49m\u001b[43m,\u001b[49m\u001b[43m \u001b[49m\u001b[43myhat\u001b[49m\u001b[38;5;241;43m=\u001b[39;49m\u001b[43myhat\u001b[49m\u001b[43m)\u001b[49m\n\u001b[1;32m     32\u001b[0m     y_less_than_loss \u001b[38;5;241m=\u001b[39m \u001b[38;5;241m-\u001b[39m torch\u001b[38;5;241m.\u001b[39mlog(\u001b[38;5;241m1\u001b[39m \u001b[38;5;241m+\u001b[39m (\u001b[38;5;241m1\u001b[39m \u001b[38;5;241m/\u001b[39m (\u001b[38;5;241m1\u001b[39m \u001b[38;5;241m+\u001b[39m yhat \u001b[38;5;241m+\u001b[39m \u001b[38;5;241m1e-5\u001b[39m))\u001b[38;5;241m*\u001b[39m(y \u001b[38;5;241m-\u001b[39m yhat))\n\u001b[1;32m     33\u001b[0m     yhat_less_than_loss \u001b[38;5;241m=\u001b[39m \u001b[38;5;241m-\u001b[39m torch\u001b[38;5;241m.\u001b[39mlog(\u001b[38;5;241m1\u001b[39m \u001b[38;5;241m+\u001b[39m (\u001b[38;5;241m1\u001b[39m \u001b[38;5;241m/\u001b[39m (\u001b[38;5;241m1\u001b[39m \u001b[38;5;241m-\u001b[39m yhat \u001b[38;5;241m+\u001b[39m \u001b[38;5;241m1e-5\u001b[39m))\u001b[38;5;241m*\u001b[39m(yhat \u001b[38;5;241m-\u001b[39m y))\n",
      "File \u001b[0;32m~/Desktop/consens-lab/loss_functions/double_log.py:9\u001b[0m, in \u001b[0;36mDoubleLogLoss.check_range\u001b[0;34m(self, y, yhat)\u001b[0m\n\u001b[1;32m      8\u001b[0m \u001b[38;5;28;01mdef\u001b[39;00m \u001b[38;5;21mcheck_range\u001b[39m(\u001b[38;5;28mself\u001b[39m, y, yhat):\n\u001b[0;32m----> 9\u001b[0m     \u001b[38;5;28;01massert\u001b[39;00m \u001b[43m(\u001b[49m\u001b[43m(\u001b[49m\u001b[43my\u001b[49m\u001b[43m \u001b[49m\u001b[38;5;241;43m<\u001b[39;49m\u001b[43m \u001b[49m\u001b[38;5;241;43m-\u001b[39;49m\u001b[38;5;241;43m1\u001b[39;49m\u001b[43m)\u001b[49m\u001b[38;5;241;43m.\u001b[39;49m\u001b[43msum\u001b[49m\u001b[43m(\u001b[49m\u001b[43m)\u001b[49m\u001b[43m \u001b[49m\u001b[38;5;241;43m+\u001b[39;49m\u001b[43m \u001b[49m\u001b[43m(\u001b[49m\u001b[43my\u001b[49m\u001b[43m \u001b[49m\u001b[38;5;241;43m>\u001b[39;49m\u001b[43m \u001b[49m\u001b[38;5;241;43m1\u001b[39;49m\u001b[43m)\u001b[49m\u001b[38;5;241;43m.\u001b[39;49m\u001b[43msum\u001b[49m\u001b[43m(\u001b[49m\u001b[43m)\u001b[49m\u001b[43m)\u001b[49m\u001b[38;5;241;43m.\u001b[39;49m\u001b[43mitem\u001b[49m\u001b[43m(\u001b[49m\u001b[43m)\u001b[49m \u001b[38;5;241m==\u001b[39m \u001b[38;5;241m0\u001b[39m, \u001b[38;5;124m\"\u001b[39m\u001b[38;5;124mTarget outside valid range\u001b[39m\u001b[38;5;124m\"\u001b[39m\n\u001b[1;32m     10\u001b[0m     \u001b[38;5;28;01massert\u001b[39;00m ((yhat \u001b[38;5;241m<\u001b[39m \u001b[38;5;241m-\u001b[39m\u001b[38;5;241m1\u001b[39m)\u001b[38;5;241m.\u001b[39msum() \u001b[38;5;241m+\u001b[39m (yhat \u001b[38;5;241m>\u001b[39m \u001b[38;5;241m1\u001b[39m)\u001b[38;5;241m.\u001b[39msum())\u001b[38;5;241m.\u001b[39mitem() \u001b[38;5;241m==\u001b[39m \u001b[38;5;241m0\u001b[39m, \u001b[38;5;124m\"\u001b[39m\u001b[38;5;124mPredicted value outside valid range\u001b[39m\u001b[38;5;124m\"\u001b[39m\n",
      "\u001b[0;31mKeyboardInterrupt\u001b[0m: "
     ]
    }
   ],
   "source": [
    "trainer.run(100)"
   ]
  }
 ],
 "metadata": {
  "kernelspec": {
   "display_name": "consens",
   "language": "python",
   "name": "python3"
  },
  "language_info": {
   "codemirror_mode": {
    "name": "ipython",
    "version": 3
   },
   "file_extension": ".py",
   "mimetype": "text/x-python",
   "name": "python",
   "nbconvert_exporter": "python",
   "pygments_lexer": "ipython3",
   "version": "3.11.7"
  }
 },
 "nbformat": 4,
 "nbformat_minor": 2
}

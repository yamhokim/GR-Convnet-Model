{
 "cells": [
  {
   "cell_type": "code",
   "execution_count": 5,
   "metadata": {},
   "outputs": [],
   "source": [
    "from models.deep_conv_net_kumra import DeepConvNetKumra\n",
    "from dataset.feature_based.feature_based_jacquard import FeatureBasedJacquard\n",
    "from loss_functions.double_log import DoubleLogLoss\n",
    "from trainers.feature_based_trainer import FeatureBasedTrainer\n",
    "from torch import optim, nn\n",
    "import torch"
   ]
  },
  {
   "cell_type": "code",
   "execution_count": 9,
   "metadata": {},
   "outputs": [],
   "source": [
    "dataset = FeatureBasedJacquard(\n",
    "    image_size=224,\n",
    "    precision=torch.float32,\n",
    "    dataset_path='/Users/grok0n/Workbench/consens/jacquard-processed',\n",
    "    random_augment=True,\n",
    ")\n",
    "# Kumra 2017 Deep Conv Net\n",
    "cls_model = DeepConvNetKumra()\n",
    "grasp_model = DeepConvNetKumra()\n",
    "# loss_fn = nn.HuberLoss()\n",
    "# loss_fn = nn.MSELoss()\n",
    "\n",
    "# Ours\n",
    "# model = GRConvNet3()\n",
    "#loss_fn = DoubleLogLoss()\n",
    "loss_fn = nn.CrossEntropyLoss()\n",
    "\n",
    "optimizer = optim.Adam\n",
    "lr = 5e-4\n",
    "\n",
    "def scheduler(lr, step):\n",
    "    if (step+1) % 20 == 0:\n",
    "        return lr/2\n",
    "    return lr\n",
    "\n",
    "trainer = FeatureBasedTrainer(\n",
    "    training_mode = \"cls\",\n",
    "    model = cls_model,\n",
    "    loss_fn = loss_fn,\n",
    "    dataset = dataset,\n",
    "    optimizer = optimizer,\n",
    "    lr = lr,\n",
    "    train_batch_size = 1,\n",
    "    test_batch_size=1,\n",
    "    device = \"mps\",\n",
    "    test_split_ratio = 0.2,\n",
    "    scheduler = scheduler,\n",
    "    checkpoint_dir='/Users/grok0n/Workbench/consens/checkpoints/grasp'\n",
    ")"
   ]
  },
  {
   "cell_type": "code",
   "execution_count": 8,
   "metadata": {},
   "outputs": [
    {
     "name": "stdout",
     "output_type": "stream",
     "text": [
      "--------------------------------------------------\n"
     ]
    },
    {
     "name": "stderr",
     "output_type": "stream",
     "text": [
      "Cls training step 1:   0%|          | 0/1015 [00:00<?, ?it/s]\n"
     ]
    },
    {
     "ename": "TypeError",
     "evalue": "CrossEntropyLoss.forward() takes 3 positional arguments but 4 were given",
     "output_type": "error",
     "traceback": [
      "\u001b[0;31m---------------------------------------------------------------------------\u001b[0m",
      "\u001b[0;31mTypeError\u001b[0m                                 Traceback (most recent call last)",
      "\u001b[1;32m/Users/grok0n/Workbench/consens/consens-lab/train_kumra.ipynb Cell 3\u001b[0m line \u001b[0;36m1\n\u001b[0;32m----> <a href='vscode-notebook-cell:/Users/grok0n/Workbench/consens/consens-lab/train_kumra.ipynb#W2sZmlsZQ%3D%3D?line=0'>1</a>\u001b[0m trainer\u001b[39m.\u001b[39;49mrun(\u001b[39m150\u001b[39;49m)\n",
      "File \u001b[0;32m~/Workbench/consens/consens-lab/trainers/feature_based_trainer.py:215\u001b[0m, in \u001b[0;36mFeatureBasedTrainer.run\u001b[0;34m(self, num_steps)\u001b[0m\n\u001b[1;32m    213\u001b[0m     \u001b[39mself\u001b[39m\u001b[39m.\u001b[39mgrasp_run(num_steps)\n\u001b[1;32m    214\u001b[0m \u001b[39melif\u001b[39;00m \u001b[39mself\u001b[39m\u001b[39m.\u001b[39mtraining_mode \u001b[39m==\u001b[39m \u001b[39m\"\u001b[39m\u001b[39mcls\u001b[39m\u001b[39m\"\u001b[39m:\n\u001b[0;32m--> 215\u001b[0m     \u001b[39mself\u001b[39;49m\u001b[39m.\u001b[39;49mcls_run(num_steps)\n",
      "File \u001b[0;32m~/Workbench/consens/consens-lab/trainers/feature_based_trainer.py:205\u001b[0m, in \u001b[0;36mFeatureBasedTrainer.cls_run\u001b[0;34m(self, num_steps)\u001b[0m\n\u001b[1;32m    202\u001b[0m     \u001b[39mself\u001b[39m\u001b[39m.\u001b[39mmodel\u001b[39m.\u001b[39munfreeze_depth_backbone()\n\u001b[1;32m    204\u001b[0m \u001b[39mprint\u001b[39m(\u001b[39m\"\u001b[39m\u001b[39m-\u001b[39m\u001b[39m\"\u001b[39m \u001b[39m*\u001b[39m \u001b[39m50\u001b[39m)\n\u001b[0;32m--> 205\u001b[0m \u001b[39mself\u001b[39;49m\u001b[39m.\u001b[39;49mcls_train_step()\n\u001b[1;32m    206\u001b[0m test_loss, test_acc \u001b[39m=\u001b[39m \u001b[39mself\u001b[39m\u001b[39m.\u001b[39mcls_test_step()\n\u001b[1;32m    207\u001b[0m \u001b[39mself\u001b[39m\u001b[39m.\u001b[39msave_state(\u001b[39m\"\u001b[39m\u001b[39mCls\u001b[39m\u001b[39m\"\u001b[39m, \u001b[39mself\u001b[39m\u001b[39m.\u001b[39mstep_number, test_loss, test_acc)\n",
      "File \u001b[0;32m~/Workbench/consens/consens-lab/trainers/feature_based_trainer.py:170\u001b[0m, in \u001b[0;36mFeatureBasedTrainer.cls_train_step\u001b[0;34m(self)\u001b[0m\n\u001b[1;32m    168\u001b[0m rgbd_image, cls_labels \u001b[39m=\u001b[39m rgbd_image\u001b[39m.\u001b[39mto(\u001b[39mself\u001b[39m\u001b[39m.\u001b[39mdevice), cls_labels\u001b[39m.\u001b[39mto(\u001b[39mself\u001b[39m\u001b[39m.\u001b[39mdevice)\n\u001b[1;32m    169\u001b[0m predicted_cls_labels \u001b[39m=\u001b[39m F\u001b[39m.\u001b[39msoftmax(\u001b[39mself\u001b[39m\u001b[39m.\u001b[39mmodel(rgbd_image), dim\u001b[39m=\u001b[39m\u001b[39m1\u001b[39m)\n\u001b[0;32m--> 170\u001b[0m loss \u001b[39m=\u001b[39m \u001b[39mself\u001b[39;49m\u001b[39m.\u001b[39;49mloss_fn(predicted_cls_labels, cls_labels, \u001b[39mFalse\u001b[39;49;00m)\n\u001b[1;32m    171\u001b[0m loss\u001b[39m.\u001b[39mbackward()\n\u001b[1;32m    172\u001b[0m \u001b[39mself\u001b[39m\u001b[39m.\u001b[39moptimizer\u001b[39m.\u001b[39mstep()\n",
      "File \u001b[0;32m/opt/homebrew/lib/python3.11/site-packages/torch/nn/modules/module.py:1518\u001b[0m, in \u001b[0;36mModule._wrapped_call_impl\u001b[0;34m(self, *args, **kwargs)\u001b[0m\n\u001b[1;32m   1516\u001b[0m     \u001b[39mreturn\u001b[39;00m \u001b[39mself\u001b[39m\u001b[39m.\u001b[39m_compiled_call_impl(\u001b[39m*\u001b[39margs, \u001b[39m*\u001b[39m\u001b[39m*\u001b[39mkwargs)  \u001b[39m# type: ignore[misc]\u001b[39;00m\n\u001b[1;32m   1517\u001b[0m \u001b[39melse\u001b[39;00m:\n\u001b[0;32m-> 1518\u001b[0m     \u001b[39mreturn\u001b[39;00m \u001b[39mself\u001b[39;49m\u001b[39m.\u001b[39;49m_call_impl(\u001b[39m*\u001b[39;49margs, \u001b[39m*\u001b[39;49m\u001b[39m*\u001b[39;49mkwargs)\n",
      "File \u001b[0;32m/opt/homebrew/lib/python3.11/site-packages/torch/nn/modules/module.py:1527\u001b[0m, in \u001b[0;36mModule._call_impl\u001b[0;34m(self, *args, **kwargs)\u001b[0m\n\u001b[1;32m   1522\u001b[0m \u001b[39m# If we don't have any hooks, we want to skip the rest of the logic in\u001b[39;00m\n\u001b[1;32m   1523\u001b[0m \u001b[39m# this function, and just call forward.\u001b[39;00m\n\u001b[1;32m   1524\u001b[0m \u001b[39mif\u001b[39;00m \u001b[39mnot\u001b[39;00m (\u001b[39mself\u001b[39m\u001b[39m.\u001b[39m_backward_hooks \u001b[39mor\u001b[39;00m \u001b[39mself\u001b[39m\u001b[39m.\u001b[39m_backward_pre_hooks \u001b[39mor\u001b[39;00m \u001b[39mself\u001b[39m\u001b[39m.\u001b[39m_forward_hooks \u001b[39mor\u001b[39;00m \u001b[39mself\u001b[39m\u001b[39m.\u001b[39m_forward_pre_hooks\n\u001b[1;32m   1525\u001b[0m         \u001b[39mor\u001b[39;00m _global_backward_pre_hooks \u001b[39mor\u001b[39;00m _global_backward_hooks\n\u001b[1;32m   1526\u001b[0m         \u001b[39mor\u001b[39;00m _global_forward_hooks \u001b[39mor\u001b[39;00m _global_forward_pre_hooks):\n\u001b[0;32m-> 1527\u001b[0m     \u001b[39mreturn\u001b[39;00m forward_call(\u001b[39m*\u001b[39;49margs, \u001b[39m*\u001b[39;49m\u001b[39m*\u001b[39;49mkwargs)\n\u001b[1;32m   1529\u001b[0m \u001b[39mtry\u001b[39;00m:\n\u001b[1;32m   1530\u001b[0m     result \u001b[39m=\u001b[39m \u001b[39mNone\u001b[39;00m\n",
      "\u001b[0;31mTypeError\u001b[0m: CrossEntropyLoss.forward() takes 3 positional arguments but 4 were given"
     ]
    }
   ],
   "source": [
    "trainer.run(150)"
   ]
  }
 ],
 "metadata": {
  "kernelspec": {
   "display_name": "Python 3 (ipykernel)",
   "language": "python",
   "name": "python3"
  },
  "language_info": {
   "codemirror_mode": {
    "name": "ipython",
    "version": 3
   },
   "file_extension": ".py",
   "mimetype": "text/x-python",
   "name": "python",
   "nbconvert_exporter": "python",
   "pygments_lexer": "ipython3",
   "version": "3.11.5"
  }
 },
 "nbformat": 4,
 "nbformat_minor": 4
}
